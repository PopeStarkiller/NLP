{
 "cells": [
  {
   "cell_type": "code",
   "execution_count": 1,
   "id": "3ac91dcf",
   "metadata": {},
   "outputs": [],
   "source": [
    "from flask import Flask, render_template, redirect, jsonify, request\n",
    "from flask import send_from_directory\n",
    "import pandas as pd\n",
    "from sqlalchemy import create_engine, insert\n",
    "from sqlalchemy.ext.declarative import declarative_base\n",
    "from sqlalchemy import MetaData, update, Table\n",
    "from sqlalchemy.orm import Session\n",
    "from datetime import datetime\n",
    "from v_functions import predictModel,predictTwtModel, predictComModel, predictAdjModel\n",
    "import tweet\n",
    "from multiprocessing import Value\n",
    "import os\n",
    "from config import rds_connection_string\n",
    "os.environ['TF_CPP_MIN_LOG_LEVEL'] = '2'\n",
    "import json\n",
    "import numpy as np\n",
    "import psycopg2\n",
    "psycopg2.extensions.register_adapter(np.int64, psycopg2._psycopg.AsIs)"
   ]
  },
  {
   "cell_type": "code",
   "execution_count": 2,
   "id": "d5e5e5d2",
   "metadata": {},
   "outputs": [],
   "source": [
    "engine = create_engine(f'postgresql://{rds_connection_string}')\n",
    "\n",
    "metadata = MetaData(engine)\n",
    "tweet_data = Table('tweet_data', metadata, autoload=True, autoload_with=engine)\n",
    "tweet_sentiment = Table('tweet_sentiment', metadata, autoload=True, autoload_with=engine)\n",
    "filter_data = Table('filter_data', metadata, autoload=True, autoload_with=engine)"
   ]
  },
  {
   "cell_type": "code",
   "execution_count": 3,
   "id": "54305dbb",
   "metadata": {},
   "outputs": [],
   "source": [
    "stats_data = Table('stats_data', metadata, autoload=True, autoload_with=engine)\n",
    "performance_stats = Table('performance_stats', metadata, autoload=True, autoload_with=engine)"
   ]
  },
  {
   "cell_type": "code",
   "execution_count": 7,
   "id": "4c1cc6a3",
   "metadata": {},
   "outputs": [],
   "source": [
    "conn = engine.connect()\n",
    "stats_df = pd.read_sql_query('select * from stats_data ORDER BY version DESC LIMIT 10', con=conn).fillna(0)\n",
    "stats_len = len(stats_df)"
   ]
  },
  {
   "cell_type": "code",
   "execution_count": 5,
   "id": "be5dc173",
   "metadata": {},
   "outputs": [
    {
     "data": {
      "text/plain": [
       "3"
      ]
     },
     "execution_count": 5,
     "metadata": {},
     "output_type": "execute_result"
    }
   ],
   "source": [
    "stats_len"
   ]
  },
  {
   "cell_type": "code",
   "execution_count": 12,
   "id": "fcb64087",
   "metadata": {},
   "outputs": [],
   "source": [
    "steve = stats_df.columns\n",
    "version_str = \"version\"\n",
    "columns_list = []\n",
    "for i in steve:\n",
    "    columns_list.append(i)\n",
    "c_list_f = columns_list[1:19]\n",
    "stats_dict = {}\n",
    "c_len = len(c_list_f)\n",
    "versions = stats_df['version']\n",
    "v_len = len(versions)\n",
    "v_str = \"version_\"\n",
    "for i in range(v_len):\n",
    "    temp_dict = {}\n",
    "    vers = v_str + str(versions[i])\n",
    "    for j in range(c_len):\n",
    "        temp_dict[c_list_f[j]] = stats_df[c_list_f[j]][i]\n",
    "    stats_dict[vers] = temp_dict\n",
    "        "
   ]
  },
  {
   "cell_type": "code",
   "execution_count": null,
   "id": "b8f90def",
   "metadata": {},
   "outputs": [],
   "source": []
  },
  {
   "cell_type": "code",
   "execution_count": 34,
   "id": "491414d0",
   "metadata": {},
   "outputs": [],
   "source": [
    "conn = engine.connect()\n",
    "performance_df = pd.read_sql_query('select * from performance_stats ORDER BY version DESC LIMIT 10', con=conn).fillna(0)\n",
    "stats_len = len(performance_df)\n",
    "steve = performance_df.columns\n",
    "version_str = \"version\"\n",
    "columns_list = []\n",
    "for i in steve:\n",
    "    columns_list.append(i)\n",
    "c_list_f = columns_list[1:19]\n",
    "stats_dict = {}\n",
    "c_len = len(c_list_f)\n",
    "versions = performance_df['version']\n",
    "v_len = len(versions)\n",
    "v_str = \"version_\"\n",
    "for i in range(v_len):\n",
    "    temp_dict = {}\n",
    "    vers = v_str + str(versions[i])\n",
    "    for j in range(c_len):\n",
    "        temp_dict[c_list_f[j]] = performance_df[c_list_f[j]][i]\n",
    "    stats_dict[vers] = temp_dict\n",
    "        "
   ]
  },
  {
   "cell_type": "code",
   "execution_count": 35,
   "id": "dd0c95d7",
   "metadata": {},
   "outputs": [],
   "source": []
  },
  {
   "cell_type": "code",
   "execution_count": 36,
   "id": "e608f743",
   "metadata": {},
   "outputs": [
    {
     "data": {
      "text/plain": [
       "{'version_2': {'date': datetime.date(2021, 9, 27),\n",
       "  'precision_adj': 0.3,\n",
       "  'recall_adj': 1.0,\n",
       "  'tpr_adj': [0.0, 1.0],\n",
       "  'fpr_adj': [0.0, 1.0],\n",
       "  'auc_adj': 0.5,\n",
       "  'precision_twt': 0.5,\n",
       "  'recall_twt': 1.0,\n",
       "  'tpr_twt': [0.0, 1.0],\n",
       "  'fpr_twt': [0.0, 1.0],\n",
       "  'auc_twt': 0.5,\n",
       "  'precision_com': 0.5,\n",
       "  'recall_rd_com': 0,\n",
       "  'tpr_com': [0.0, 1.0],\n",
       "  'fpr_com': [0.0, 1.0],\n",
       "  'auc_com': 0.5},\n",
       " 'version_1': {'date': datetime.date(2021, 9, 27),\n",
       "  'precision_adj': 0.3333333333333333,\n",
       "  'recall_adj': 1.0,\n",
       "  'tpr_adj': [0.0, 1.0],\n",
       "  'fpr_adj': [0.0, 1.0],\n",
       "  'auc_adj': 0.5,\n",
       "  'precision_twt': 0.525,\n",
       "  'recall_twt': 1.0,\n",
       "  'tpr_twt': [0.0, 1.0],\n",
       "  'fpr_twt': [0.0, 1.0],\n",
       "  'auc_twt': 0.5,\n",
       "  'precision_com': 0.525,\n",
       "  'recall_rd_com': 0,\n",
       "  'tpr_com': [0.0, 1.0],\n",
       "  'fpr_com': [0.0, 1.0],\n",
       "  'auc_com': 0.5}}"
      ]
     },
     "execution_count": 36,
     "metadata": {},
     "output_type": "execute_result"
    }
   ],
   "source": [
    "stats_dict"
   ]
  },
  {
   "cell_type": "code",
   "execution_count": 25,
   "id": "3b7aac7d",
   "metadata": {},
   "outputs": [],
   "source": []
  },
  {
   "cell_type": "code",
   "execution_count": 30,
   "id": "74210de4",
   "metadata": {},
   "outputs": [],
   "source": []
  },
  {
   "cell_type": "code",
   "execution_count": null,
   "id": "2696d46b",
   "metadata": {},
   "outputs": [],
   "source": []
  }
 ],
 "metadata": {
  "kernelspec": {
   "display_name": "Python 3 (ipykernel)",
   "language": "python",
   "name": "python3"
  },
  "language_info": {
   "codemirror_mode": {
    "name": "ipython",
    "version": 3
   },
   "file_extension": ".py",
   "mimetype": "text/x-python",
   "name": "python",
   "nbconvert_exporter": "python",
   "pygments_lexer": "ipython3",
   "version": "3.9.7"
  }
 },
 "nbformat": 4,
 "nbformat_minor": 5
}
